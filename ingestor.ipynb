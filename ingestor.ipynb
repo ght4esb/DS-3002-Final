{
 "cells": [
  {
   "cell_type": "code",
   "execution_count": 221,
   "id": "0c10a941",
   "metadata": {},
   "outputs": [],
   "source": [
    "# import necessary functions\n",
    "import os\n",
    "import mysql.connector\n",
    "import requests\n",
    "import json\n",
    "import pandas as pd\n",
    "import matplotlib.pyplot as plt\n",
    "import numpy as np\n",
    "from dotenv import load_dotenv\n",
    "import schedule\n",
    "import time\n",
    "from datetime import datetime, timedelta, time\n",
    "import logging"
   ]
  },
  {
   "cell_type": "code",
   "execution_count": 13,
   "id": "6b979578",
   "metadata": {},
   "outputs": [],
   "source": [
    "# initialize environment variables\n",
    "# %env MYSQL_PASSWORD=\n",
    "# %env MYSQL_HOST=\n",
    "# %env MYSQL_USER="
   ]
  },
  {
   "cell_type": "code",
   "execution_count": 187,
   "id": "f6bcb762",
   "metadata": {},
   "outputs": [],
   "source": [
    "# connect to mysql\n",
    "mydb = mysql.connector.connect(\n",
    "    host = os.getenv('MYSQL_HOST'),\n",
    "    user = os.getenv('MYSQL_USER'),\n",
    "    password = os.getenv('MYSQL_PASSWORD')\n",
    ")\n",
    "\n",
    "# cursor instance used to execute SQL statements in Python\n",
    "cursor = mydb.cursor()\n",
    " \n",
    "# creating a database with a name 'factors'\n",
    "cursor.execute(\"CREATE DATABASE factors\")"
   ]
  },
  {
   "cell_type": "code",
   "execution_count": 188,
   "id": "507b82df",
   "metadata": {},
   "outputs": [],
   "source": [
    "mydb = mysql.connector.connect(\n",
    "    host = os.getenv('MYSQL_HOST'),\n",
    "    user = os.getenv('MYSQL_USER'),\n",
    "    password = os.getenv('MYSQL_PASSWORD'),\n",
    "    database = \"factors\"\n",
    ")\n",
    "\n",
    "cursor = mydb.cursor()\n",
    " \n",
    "# Creating a table called 'results' in the\n",
    "# 'factors' database\n",
    "cursor.execute(\"CREATE TABLE results (factor INT, pi DECIMAL(17,16), time DATETIME)\")"
   ]
  },
  {
   "cell_type": "code",
   "execution_count": 189,
   "id": "b0693673",
   "metadata": {},
   "outputs": [
    {
     "name": "stdout",
     "output_type": "stream",
     "text": [
      "('results',)\n"
     ]
    }
   ],
   "source": [
    "# show existing tables\n",
    "cursor.execute(\"SHOW TABLES\")\n",
    " \n",
    "for x in cursor:\n",
    "  print(x)"
   ]
  },
  {
   "cell_type": "code",
   "execution_count": 193,
   "id": "155afe2b",
   "metadata": {},
   "outputs": [
    {
     "name": "stdout",
     "output_type": "stream",
     "text": [
      "Total number of rows in table:  60\n",
      "\n",
      "Printing each row\n",
      "Factor =  1\n",
      "Pi =  4.0000000000000000\n",
      "Time  =  2022-05-04 20:00:00 \n",
      "\n",
      "Factor =  1\n",
      "Pi =  4.0000000000000000\n",
      "Time  =  2022-05-04 20:01:00 \n",
      "\n",
      "Factor =  8\n",
      "Pi =  3.0170718170718180\n",
      "Time  =  2022-05-04 20:02:00 \n",
      "\n",
      "Factor =  27\n",
      "Pi =  3.1786170109992202\n",
      "Time  =  2022-05-04 20:03:00 \n",
      "\n",
      "Factor =  64\n",
      "Pi =  3.1259686069732880\n",
      "Time  =  2022-05-04 20:04:00 \n",
      "\n",
      "Factor =  125\n",
      "Pi =  3.1495925256000317\n",
      "Time  =  2022-05-04 20:05:00 \n",
      "\n",
      "Factor =  216\n",
      "Pi =  3.1369630487667557\n",
      "Time  =  2022-05-04 20:06:00 \n",
      "\n",
      "Factor =  343\n",
      "Pi =  3.1445080992896712\n",
      "Time  =  2022-05-04 20:07:00 \n",
      "\n",
      "Factor =  512\n",
      "Pi =  3.1396395304524310\n",
      "Time  =  2022-05-04 20:08:00 \n",
      "\n",
      "Factor =  729\n",
      "Pi =  3.1429643950569854\n",
      "Time  =  2022-05-04 20:09:00 \n",
      "\n",
      "Factor =  1000\n",
      "Pi =  3.1405926538397940\n",
      "Time  =  2022-05-04 20:10:00 \n",
      "\n",
      "Factor =  1331\n",
      "Pi =  3.1423439682846700\n",
      "Time  =  2022-05-04 20:11:00 \n",
      "\n",
      "Factor =  1728\n",
      "Pi =  3.1410139499345390\n",
      "Time  =  2022-05-04 20:12:00 \n",
      "\n",
      "Factor =  2197\n",
      "Pi =  3.1420478197018580\n",
      "Time  =  2022-05-04 20:13:00 \n",
      "\n",
      "Factor =  2744\n",
      "Pi =  3.1412282221150143\n",
      "Time  =  2022-05-04 20:14:00 \n",
      "\n",
      "Factor =  3375\n",
      "Pi =  3.1418889498795900\n",
      "Time  =  2022-05-04 20:15:00 \n",
      "\n",
      "Factor =  4096\n",
      "Pi =  3.1413485129684340\n",
      "Time  =  2022-05-04 20:16:00 \n",
      "\n",
      "Factor =  4913\n",
      "Pi =  3.1417961952119438\n",
      "Time  =  2022-05-04 20:17:00 \n",
      "\n",
      "Factor =  5832\n",
      "Pi =  3.1414211858269890\n",
      "Time  =  2022-05-04 20:18:00 \n",
      "\n",
      "Factor =  6859\n",
      "Pi =  3.1417384474365110\n",
      "Time  =  2022-05-04 20:19:00 \n",
      "\n",
      "Factor =  8000\n",
      "Pi =  3.1414676535902680\n",
      "Time  =  2022-05-04 20:20:00 \n",
      "\n",
      "Factor =  9261\n",
      "Pi =  3.1417006332892840\n",
      "Time  =  2022-05-04 20:21:00 \n",
      "\n",
      "Factor =  10648\n",
      "Pi =  3.1414987392398780\n",
      "Time  =  2022-05-04 20:22:00 \n",
      "\n",
      "Factor =  12167\n",
      "Pi =  3.1416748431186930\n",
      "Time  =  2022-05-04 20:23:00 \n",
      "\n",
      "Factor =  13824\n",
      "Pi =  3.1415203156269150\n",
      "Time  =  2022-05-04 20:24:00 \n",
      "\n",
      "Factor =  15625\n",
      "Pi =  3.1416566535897220\n",
      "Time  =  2022-05-04 20:25:00 \n",
      "\n",
      "Factor =  17576\n",
      "Pi =  3.1415357578228837\n",
      "Time  =  2022-05-04 20:26:00 \n",
      "\n",
      "Factor =  19683\n",
      "Pi =  3.1416434588531876\n",
      "Time  =  2022-05-04 20:27:00 \n",
      "\n",
      "Factor =  21952\n",
      "Pi =  3.1415470996539530\n",
      "Time  =  2022-05-04 20:28:00 \n",
      "\n",
      "Factor =  24389\n",
      "Pi =  3.1416336556808755\n",
      "Time  =  2022-05-04 20:29:00 \n",
      "\n",
      "Factor =  27000\n",
      "Pi =  3.1415556165527665\n",
      "Time  =  2022-05-04 20:30:00 \n",
      "\n",
      "Factor =  29791\n",
      "Pi =  3.1416262207744947\n",
      "Time  =  2022-05-04 20:31:00 \n",
      "\n",
      "Factor =  32768\n",
      "Pi =  3.1415621360116797\n",
      "Time  =  2022-05-04 20:32:00 \n",
      "\n",
      "Factor =  35937\n",
      "Pi =  3.1416204800638963\n",
      "Time  =  2022-05-04 20:33:00 \n",
      "\n",
      "Factor =  39304\n",
      "Pi =  3.1415672108867690\n",
      "Time  =  2022-05-04 20:34:00 \n",
      "\n",
      "Factor =  42875\n",
      "Pi =  3.1416159772049452\n",
      "Time  =  2022-05-04 20:35:00 \n",
      "\n",
      "Factor =  46656\n",
      "Pi =  3.1415712201192867\n",
      "Time  =  2022-05-04 20:36:00 \n",
      "\n",
      "Factor =  50653\n",
      "Pi =  3.1416123957570740\n",
      "Time  =  2022-05-04 20:37:00 \n",
      "\n",
      "Factor =  54872\n",
      "Pi =  3.1415744293588412\n",
      "Time  =  2022-05-04 20:38:00 \n",
      "\n",
      "Factor =  59319\n",
      "Pi =  3.1416095115947930\n",
      "Time  =  2022-05-04 20:39:00 \n",
      "\n",
      "Factor =  64000\n",
      "Pi =  3.1415770285897680\n",
      "Time  =  2022-05-04 20:40:00 \n",
      "\n",
      "Factor =  68921\n",
      "Pi =  3.1416071629555630\n",
      "Time  =  2022-05-04 20:41:00 \n",
      "\n",
      "Factor =  74088\n",
      "Pi =  3.1415791561272712\n",
      "Time  =  2022-05-04 20:42:00 \n",
      "\n",
      "Factor =  79507\n",
      "Pi =  3.1416052310986480\n",
      "Time  =  2022-05-04 20:43:00 \n",
      "\n",
      "Factor =  85184\n",
      "Pi =  3.1415809142959636\n",
      "Time  =  2022-05-04 20:44:00 \n",
      "\n",
      "Factor =  91125\n",
      "Pi =  3.1416036275266306\n",
      "Time  =  2022-05-04 20:45:00 \n",
      "\n",
      "Factor =  97336\n",
      "Pi =  3.1415823798985840\n",
      "Time  =  2022-05-04 20:46:00 \n",
      "\n",
      "Factor =  103823\n",
      "Pi =  3.1416022853668917\n",
      "Time  =  2022-05-04 20:47:00 \n",
      "\n",
      "Factor =  110592\n",
      "Pi =  3.1415836113443634\n",
      "Time  =  2022-05-04 20:48:00 \n",
      "\n",
      "Factor =  117649\n",
      "Pi =  3.1416011534494763\n",
      "Time  =  2022-05-04 20:49:00 \n",
      "\n",
      "Factor =  125000\n",
      "Pi =  3.1415846535897280\n",
      "Time  =  2022-05-04 20:50:00 \n",
      "\n",
      "Factor =  132651\n",
      "Pi =  3.1416001921684225\n",
      "Time  =  2022-05-04 20:51:00 \n",
      "\n",
      "Factor =  140608\n",
      "Pi =  3.1415855416188876\n",
      "Time  =  2022-05-04 20:52:00 \n",
      "\n",
      "Factor =  148877\n",
      "Pi =  3.1415993705440060\n",
      "Time  =  2022-05-04 20:53:00 \n",
      "\n",
      "Factor =  157464\n",
      "Pi =  3.1415863029318056\n",
      "Time  =  2022-05-04 20:54:00 \n",
      "\n",
      "Factor =  166375\n",
      "Pi =  3.1415986641081540\n",
      "Time  =  2022-05-04 20:55:00 \n",
      "\n",
      "Factor =  175616\n",
      "Pi =  3.1415869593477850\n",
      "Time  =  2022-05-04 20:56:00 \n",
      "\n",
      "Factor =  185193\n",
      "Pi =  3.1415980533619163\n",
      "Time  =  2022-05-04 20:57:00 \n",
      "\n",
      "Factor =  195112\n",
      "Pi =  3.1415875283283916\n",
      "Time  =  2022-05-04 20:58:00 \n",
      "\n",
      "Factor =  205379\n",
      "Pi =  3.1415975226367340\n",
      "Time  =  2022-05-04 20:59:00 \n",
      "\n"
     ]
    }
   ],
   "source": [
    "# print each row of the results table\n",
    "try:\n",
    "    sql_select_Query = \"select * from results\"\n",
    "    cursor = mydb.cursor()\n",
    "    cursor.execute(sql_select_Query)\n",
    "    # get all records\n",
    "    records = cursor.fetchall()\n",
    "    print(\"Total number of rows in table: \", cursor.rowcount)\n",
    "    print(\"\\nPrinting each row\")\n",
    "    for row in records:\n",
    "        print(\"Factor = \", row[0], )\n",
    "        print(\"Pi = \", row[1])\n",
    "        print(\"Time  = \", row[2], \"\\n\")\n",
    "except mysql.connector.Error as e: # catch error if cannot connect to MYySQL\n",
    "    print(\"Error reading data from MySQL table\", e)"
   ]
  },
  {
   "cell_type": "code",
   "execution_count": 192,
   "id": "2311d1e4",
   "metadata": {},
   "outputs": [
    {
     "name": "stderr",
     "output_type": "stream",
     "text": [
      "DEBUG:schedule:Running job Job(interval=1, unit=minutes, do=resultsData, args=(), kwargs={})\n"
     ]
    },
    {
     "name": "stdout",
     "output_type": "stream",
     "text": [
      "{'factor': 1, 'pi': 4.0, 'time': '2022-05-04 20:00:00'}\n",
      "16:00:00\n"
     ]
    },
    {
     "name": "stderr",
     "output_type": "stream",
     "text": [
      "DEBUG:schedule:Running job Job(interval=1, unit=minutes, do=resultsData, args=(), kwargs={})\n"
     ]
    },
    {
     "name": "stdout",
     "output_type": "stream",
     "text": [
      "{'factor': 1, 'pi': 4.0, 'time': '2022-05-04 20:01:00'}\n",
      "16:01:00\n"
     ]
    },
    {
     "name": "stderr",
     "output_type": "stream",
     "text": [
      "DEBUG:schedule:Running job Job(interval=1, unit=minutes, do=resultsData, args=(), kwargs={})\n"
     ]
    },
    {
     "name": "stdout",
     "output_type": "stream",
     "text": [
      "{'factor': 8, 'pi': 3.017071817071818, 'time': '2022-05-04 20:02:00'}\n",
      "16:02:00\n"
     ]
    },
    {
     "name": "stderr",
     "output_type": "stream",
     "text": [
      "DEBUG:schedule:Running job Job(interval=1, unit=minutes, do=resultsData, args=(), kwargs={})\n"
     ]
    },
    {
     "name": "stdout",
     "output_type": "stream",
     "text": [
      "{'factor': 27, 'pi': 3.1786170109992202, 'time': '2022-05-04 20:03:00'}\n",
      "16:03:00\n"
     ]
    },
    {
     "name": "stderr",
     "output_type": "stream",
     "text": [
      "DEBUG:schedule:Running job Job(interval=1, unit=minutes, do=resultsData, args=(), kwargs={})\n"
     ]
    },
    {
     "name": "stdout",
     "output_type": "stream",
     "text": [
      "{'factor': 64, 'pi': 3.125968606973288, 'time': '2022-05-04 20:04:00'}\n",
      "16:04:00\n"
     ]
    },
    {
     "name": "stderr",
     "output_type": "stream",
     "text": [
      "DEBUG:schedule:Running job Job(interval=1, unit=minutes, do=resultsData, args=(), kwargs={})\n"
     ]
    },
    {
     "name": "stdout",
     "output_type": "stream",
     "text": [
      "{'factor': 125, 'pi': 3.1495925256000317, 'time': '2022-05-04 20:05:00'}\n",
      "16:05:00\n"
     ]
    },
    {
     "name": "stderr",
     "output_type": "stream",
     "text": [
      "DEBUG:schedule:Running job Job(interval=1, unit=minutes, do=resultsData, args=(), kwargs={})\n"
     ]
    },
    {
     "name": "stdout",
     "output_type": "stream",
     "text": [
      "{'factor': 216, 'pi': 3.1369630487667557, 'time': '2022-05-04 20:06:00'}\n",
      "16:06:00\n"
     ]
    },
    {
     "name": "stderr",
     "output_type": "stream",
     "text": [
      "DEBUG:schedule:Running job Job(interval=1, unit=minutes, do=resultsData, args=(), kwargs={})\n"
     ]
    },
    {
     "name": "stdout",
     "output_type": "stream",
     "text": [
      "{'factor': 343, 'pi': 3.1445080992896712, 'time': '2022-05-04 20:07:00'}\n",
      "16:07:00\n"
     ]
    },
    {
     "name": "stderr",
     "output_type": "stream",
     "text": [
      "DEBUG:schedule:Running job Job(interval=1, unit=minutes, do=resultsData, args=(), kwargs={})\n"
     ]
    },
    {
     "name": "stdout",
     "output_type": "stream",
     "text": [
      "{'factor': 512, 'pi': 3.139639530452431, 'time': '2022-05-04 20:08:00'}\n",
      "16:08:00\n"
     ]
    },
    {
     "name": "stderr",
     "output_type": "stream",
     "text": [
      "DEBUG:schedule:Running job Job(interval=1, unit=minutes, do=resultsData, args=(), kwargs={})\n"
     ]
    },
    {
     "name": "stdout",
     "output_type": "stream",
     "text": [
      "{'factor': 729, 'pi': 3.1429643950569854, 'time': '2022-05-04 20:09:00'}\n",
      "16:09:00\n"
     ]
    },
    {
     "name": "stderr",
     "output_type": "stream",
     "text": [
      "DEBUG:schedule:Running job Job(interval=1, unit=minutes, do=resultsData, args=(), kwargs={})\n"
     ]
    },
    {
     "name": "stdout",
     "output_type": "stream",
     "text": [
      "{'factor': 1000, 'pi': 3.140592653839794, 'time': '2022-05-04 20:10:00'}\n",
      "16:10:00\n"
     ]
    },
    {
     "name": "stderr",
     "output_type": "stream",
     "text": [
      "DEBUG:schedule:Running job Job(interval=1, unit=minutes, do=resultsData, args=(), kwargs={})\n"
     ]
    },
    {
     "name": "stdout",
     "output_type": "stream",
     "text": [
      "{'factor': 1331, 'pi': 3.14234396828467, 'time': '2022-05-04 20:11:00'}\n",
      "16:11:00\n"
     ]
    },
    {
     "name": "stderr",
     "output_type": "stream",
     "text": [
      "DEBUG:schedule:Running job Job(interval=1, unit=minutes, do=resultsData, args=(), kwargs={})\n"
     ]
    },
    {
     "name": "stdout",
     "output_type": "stream",
     "text": [
      "{'factor': 1728, 'pi': 3.141013949934539, 'time': '2022-05-04 20:12:00'}\n",
      "16:12:00\n"
     ]
    },
    {
     "name": "stderr",
     "output_type": "stream",
     "text": [
      "DEBUG:schedule:Running job Job(interval=1, unit=minutes, do=resultsData, args=(), kwargs={})\n"
     ]
    },
    {
     "name": "stdout",
     "output_type": "stream",
     "text": [
      "{'factor': 2197, 'pi': 3.142047819701858, 'time': '2022-05-04 20:13:00'}\n",
      "16:13:00\n"
     ]
    },
    {
     "name": "stderr",
     "output_type": "stream",
     "text": [
      "DEBUG:schedule:Running job Job(interval=1, unit=minutes, do=resultsData, args=(), kwargs={})\n"
     ]
    },
    {
     "name": "stdout",
     "output_type": "stream",
     "text": [
      "{'factor': 2744, 'pi': 3.1412282221150143, 'time': '2022-05-04 20:14:00'}\n",
      "16:14:00\n"
     ]
    },
    {
     "name": "stderr",
     "output_type": "stream",
     "text": [
      "DEBUG:schedule:Running job Job(interval=1, unit=minutes, do=resultsData, args=(), kwargs={})\n"
     ]
    },
    {
     "name": "stdout",
     "output_type": "stream",
     "text": [
      "{'factor': 3375, 'pi': 3.14188894987959, 'time': '2022-05-04 20:15:00'}\n",
      "16:15:00\n"
     ]
    },
    {
     "name": "stderr",
     "output_type": "stream",
     "text": [
      "DEBUG:schedule:Running job Job(interval=1, unit=minutes, do=resultsData, args=(), kwargs={})\n"
     ]
    },
    {
     "name": "stdout",
     "output_type": "stream",
     "text": [
      "{'factor': 4096, 'pi': 3.141348512968434, 'time': '2022-05-04 20:16:00'}\n",
      "16:16:00\n"
     ]
    },
    {
     "name": "stderr",
     "output_type": "stream",
     "text": [
      "DEBUG:schedule:Running job Job(interval=1, unit=minutes, do=resultsData, args=(), kwargs={})\n"
     ]
    },
    {
     "name": "stdout",
     "output_type": "stream",
     "text": [
      "{'factor': 4913, 'pi': 3.1417961952119438, 'time': '2022-05-04 20:17:00'}\n",
      "16:17:00\n"
     ]
    },
    {
     "name": "stderr",
     "output_type": "stream",
     "text": [
      "DEBUG:schedule:Running job Job(interval=1, unit=minutes, do=resultsData, args=(), kwargs={})\n"
     ]
    },
    {
     "name": "stdout",
     "output_type": "stream",
     "text": [
      "{'factor': 5832, 'pi': 3.141421185826989, 'time': '2022-05-04 20:18:00'}\n",
      "16:18:00\n"
     ]
    },
    {
     "name": "stderr",
     "output_type": "stream",
     "text": [
      "DEBUG:schedule:Running job Job(interval=1, unit=minutes, do=resultsData, args=(), kwargs={})\n"
     ]
    },
    {
     "name": "stdout",
     "output_type": "stream",
     "text": [
      "{'factor': 6859, 'pi': 3.141738447436511, 'time': '2022-05-04 20:19:00'}\n",
      "16:19:00\n"
     ]
    },
    {
     "name": "stderr",
     "output_type": "stream",
     "text": [
      "DEBUG:schedule:Running job Job(interval=1, unit=minutes, do=resultsData, args=(), kwargs={})\n"
     ]
    },
    {
     "name": "stdout",
     "output_type": "stream",
     "text": [
      "{'factor': 8000, 'pi': 3.141467653590268, 'time': '2022-05-04 20:20:00'}\n",
      "16:20:00\n"
     ]
    },
    {
     "name": "stderr",
     "output_type": "stream",
     "text": [
      "DEBUG:schedule:Running job Job(interval=1, unit=minutes, do=resultsData, args=(), kwargs={})\n"
     ]
    },
    {
     "name": "stdout",
     "output_type": "stream",
     "text": [
      "{'factor': 9261, 'pi': 3.141700633289284, 'time': '2022-05-04 20:21:00'}\n",
      "16:21:00\n"
     ]
    },
    {
     "name": "stderr",
     "output_type": "stream",
     "text": [
      "DEBUG:schedule:Running job Job(interval=1, unit=minutes, do=resultsData, args=(), kwargs={})\n"
     ]
    },
    {
     "name": "stdout",
     "output_type": "stream",
     "text": [
      "{'factor': 10648, 'pi': 3.141498739239878, 'time': '2022-05-04 20:22:00'}\n",
      "16:22:00\n"
     ]
    },
    {
     "name": "stderr",
     "output_type": "stream",
     "text": [
      "DEBUG:schedule:Running job Job(interval=1, unit=minutes, do=resultsData, args=(), kwargs={})\n"
     ]
    },
    {
     "name": "stdout",
     "output_type": "stream",
     "text": [
      "{'factor': 12167, 'pi': 3.141674843118693, 'time': '2022-05-04 20:23:00'}\n",
      "16:23:00\n"
     ]
    },
    {
     "name": "stderr",
     "output_type": "stream",
     "text": [
      "DEBUG:schedule:Running job Job(interval=1, unit=minutes, do=resultsData, args=(), kwargs={})\n"
     ]
    },
    {
     "name": "stdout",
     "output_type": "stream",
     "text": [
      "{'factor': 13824, 'pi': 3.141520315626915, 'time': '2022-05-04 20:24:00'}\n",
      "16:24:00\n"
     ]
    },
    {
     "name": "stderr",
     "output_type": "stream",
     "text": [
      "DEBUG:schedule:Running job Job(interval=1, unit=minutes, do=resultsData, args=(), kwargs={})\n"
     ]
    },
    {
     "name": "stdout",
     "output_type": "stream",
     "text": [
      "{'factor': 15625, 'pi': 3.141656653589722, 'time': '2022-05-04 20:25:00'}\n",
      "16:25:00\n"
     ]
    },
    {
     "name": "stderr",
     "output_type": "stream",
     "text": [
      "DEBUG:schedule:Running job Job(interval=1, unit=minutes, do=resultsData, args=(), kwargs={})\n"
     ]
    },
    {
     "name": "stdout",
     "output_type": "stream",
     "text": [
      "{'factor': 17576, 'pi': 3.1415357578228837, 'time': '2022-05-04 20:26:00'}\n",
      "16:26:00\n"
     ]
    },
    {
     "name": "stderr",
     "output_type": "stream",
     "text": [
      "DEBUG:schedule:Running job Job(interval=1, unit=minutes, do=resultsData, args=(), kwargs={})\n"
     ]
    },
    {
     "name": "stdout",
     "output_type": "stream",
     "text": [
      "{'factor': 19683, 'pi': 3.1416434588531876, 'time': '2022-05-04 20:27:00'}\n",
      "16:27:00\n"
     ]
    },
    {
     "name": "stderr",
     "output_type": "stream",
     "text": [
      "DEBUG:schedule:Running job Job(interval=1, unit=minutes, do=resultsData, args=(), kwargs={})\n"
     ]
    },
    {
     "name": "stdout",
     "output_type": "stream",
     "text": [
      "{'factor': 21952, 'pi': 3.141547099653953, 'time': '2022-05-04 20:28:00'}\n",
      "16:28:00\n"
     ]
    },
    {
     "name": "stderr",
     "output_type": "stream",
     "text": [
      "DEBUG:schedule:Running job Job(interval=1, unit=minutes, do=resultsData, args=(), kwargs={})\n"
     ]
    },
    {
     "name": "stdout",
     "output_type": "stream",
     "text": [
      "{'factor': 24389, 'pi': 3.1416336556808755, 'time': '2022-05-04 20:29:00'}\n",
      "16:29:00\n"
     ]
    },
    {
     "name": "stderr",
     "output_type": "stream",
     "text": [
      "DEBUG:schedule:Running job Job(interval=1, unit=minutes, do=resultsData, args=(), kwargs={})\n"
     ]
    },
    {
     "name": "stdout",
     "output_type": "stream",
     "text": [
      "{'factor': 27000, 'pi': 3.1415556165527665, 'time': '2022-05-04 20:30:00'}\n",
      "16:30:00\n"
     ]
    },
    {
     "name": "stderr",
     "output_type": "stream",
     "text": [
      "DEBUG:schedule:Running job Job(interval=1, unit=minutes, do=resultsData, args=(), kwargs={})\n"
     ]
    },
    {
     "name": "stdout",
     "output_type": "stream",
     "text": [
      "{'factor': 29791, 'pi': 3.1416262207744947, 'time': '2022-05-04 20:31:00'}\n",
      "16:31:00\n"
     ]
    },
    {
     "name": "stderr",
     "output_type": "stream",
     "text": [
      "DEBUG:schedule:Running job Job(interval=1, unit=minutes, do=resultsData, args=(), kwargs={})\n"
     ]
    },
    {
     "name": "stdout",
     "output_type": "stream",
     "text": [
      "{'factor': 32768, 'pi': 3.1415621360116797, 'time': '2022-05-04 20:32:00'}\n",
      "16:32:00\n"
     ]
    },
    {
     "name": "stderr",
     "output_type": "stream",
     "text": [
      "DEBUG:schedule:Running job Job(interval=1, unit=minutes, do=resultsData, args=(), kwargs={})\n"
     ]
    },
    {
     "name": "stdout",
     "output_type": "stream",
     "text": [
      "{'factor': 35937, 'pi': 3.1416204800638963, 'time': '2022-05-04 20:33:00'}\n",
      "16:33:00\n"
     ]
    },
    {
     "name": "stderr",
     "output_type": "stream",
     "text": [
      "DEBUG:schedule:Running job Job(interval=1, unit=minutes, do=resultsData, args=(), kwargs={})\n"
     ]
    },
    {
     "name": "stdout",
     "output_type": "stream",
     "text": [
      "{'factor': 39304, 'pi': 3.141567210886769, 'time': '2022-05-04 20:34:00'}\n",
      "16:34:00\n"
     ]
    },
    {
     "name": "stderr",
     "output_type": "stream",
     "text": [
      "DEBUG:schedule:Running job Job(interval=1, unit=minutes, do=resultsData, args=(), kwargs={})\n"
     ]
    },
    {
     "name": "stdout",
     "output_type": "stream",
     "text": [
      "{'factor': 42875, 'pi': 3.1416159772049452, 'time': '2022-05-04 20:35:00'}\n",
      "16:35:00\n"
     ]
    },
    {
     "name": "stderr",
     "output_type": "stream",
     "text": [
      "DEBUG:schedule:Running job Job(interval=1, unit=minutes, do=resultsData, args=(), kwargs={})\n"
     ]
    },
    {
     "name": "stdout",
     "output_type": "stream",
     "text": [
      "{'factor': 46656, 'pi': 3.1415712201192867, 'time': '2022-05-04 20:36:00'}\n",
      "16:36:00\n"
     ]
    },
    {
     "name": "stderr",
     "output_type": "stream",
     "text": [
      "DEBUG:schedule:Running job Job(interval=1, unit=minutes, do=resultsData, args=(), kwargs={})\n"
     ]
    },
    {
     "name": "stdout",
     "output_type": "stream",
     "text": [
      "{'factor': 50653, 'pi': 3.141612395757074, 'time': '2022-05-04 20:37:00'}\n",
      "16:37:00\n"
     ]
    },
    {
     "name": "stderr",
     "output_type": "stream",
     "text": [
      "DEBUG:schedule:Running job Job(interval=1, unit=minutes, do=resultsData, args=(), kwargs={})\n"
     ]
    },
    {
     "name": "stdout",
     "output_type": "stream",
     "text": [
      "{'factor': 54872, 'pi': 3.1415744293588412, 'time': '2022-05-04 20:38:00'}\n",
      "16:38:00\n"
     ]
    },
    {
     "name": "stderr",
     "output_type": "stream",
     "text": [
      "DEBUG:schedule:Running job Job(interval=1, unit=minutes, do=resultsData, args=(), kwargs={})\n"
     ]
    },
    {
     "name": "stdout",
     "output_type": "stream",
     "text": [
      "{'factor': 59319, 'pi': 3.141609511594793, 'time': '2022-05-04 20:39:00'}\n",
      "16:39:00\n"
     ]
    },
    {
     "name": "stderr",
     "output_type": "stream",
     "text": [
      "DEBUG:schedule:Running job Job(interval=1, unit=minutes, do=resultsData, args=(), kwargs={})\n"
     ]
    },
    {
     "name": "stdout",
     "output_type": "stream",
     "text": [
      "{'factor': 64000, 'pi': 3.141577028589768, 'time': '2022-05-04 20:40:00'}\n",
      "16:40:00\n"
     ]
    },
    {
     "name": "stderr",
     "output_type": "stream",
     "text": [
      "DEBUG:schedule:Running job Job(interval=1, unit=minutes, do=resultsData, args=(), kwargs={})\n"
     ]
    },
    {
     "name": "stdout",
     "output_type": "stream",
     "text": [
      "{'factor': 68921, 'pi': 3.141607162955563, 'time': '2022-05-04 20:41:00'}\n",
      "16:41:00\n"
     ]
    },
    {
     "name": "stderr",
     "output_type": "stream",
     "text": [
      "DEBUG:schedule:Running job Job(interval=1, unit=minutes, do=resultsData, args=(), kwargs={})\n"
     ]
    },
    {
     "name": "stdout",
     "output_type": "stream",
     "text": [
      "{'factor': 74088, 'pi': 3.1415791561272712, 'time': '2022-05-04 20:42:00'}\n",
      "16:42:00\n"
     ]
    },
    {
     "name": "stderr",
     "output_type": "stream",
     "text": [
      "DEBUG:schedule:Running job Job(interval=1, unit=minutes, do=resultsData, args=(), kwargs={})\n"
     ]
    },
    {
     "name": "stdout",
     "output_type": "stream",
     "text": [
      "{'factor': 79507, 'pi': 3.141605231098648, 'time': '2022-05-04 20:43:00'}\n",
      "16:43:00\n"
     ]
    },
    {
     "name": "stderr",
     "output_type": "stream",
     "text": [
      "DEBUG:schedule:Running job Job(interval=1, unit=minutes, do=resultsData, args=(), kwargs={})\n"
     ]
    },
    {
     "name": "stdout",
     "output_type": "stream",
     "text": [
      "{'factor': 85184, 'pi': 3.1415809142959636, 'time': '2022-05-04 20:44:00'}\n",
      "16:44:00\n"
     ]
    },
    {
     "name": "stderr",
     "output_type": "stream",
     "text": [
      "DEBUG:schedule:Running job Job(interval=1, unit=minutes, do=resultsData, args=(), kwargs={})\n"
     ]
    },
    {
     "name": "stdout",
     "output_type": "stream",
     "text": [
      "{'factor': 91125, 'pi': 3.1416036275266306, 'time': '2022-05-04 20:45:00'}\n",
      "16:45:00\n"
     ]
    },
    {
     "name": "stderr",
     "output_type": "stream",
     "text": [
      "DEBUG:schedule:Running job Job(interval=1, unit=minutes, do=resultsData, args=(), kwargs={})\n"
     ]
    },
    {
     "name": "stdout",
     "output_type": "stream",
     "text": [
      "{'factor': 97336, 'pi': 3.141582379898584, 'time': '2022-05-04 20:46:00'}\n",
      "16:46:00\n"
     ]
    },
    {
     "name": "stderr",
     "output_type": "stream",
     "text": [
      "DEBUG:schedule:Running job Job(interval=1, unit=minutes, do=resultsData, args=(), kwargs={})\n"
     ]
    },
    {
     "name": "stdout",
     "output_type": "stream",
     "text": [
      "{'factor': 103823, 'pi': 3.1416022853668917, 'time': '2022-05-04 20:47:00'}\n",
      "16:47:00\n"
     ]
    },
    {
     "name": "stderr",
     "output_type": "stream",
     "text": [
      "DEBUG:schedule:Running job Job(interval=1, unit=minutes, do=resultsData, args=(), kwargs={})\n"
     ]
    },
    {
     "name": "stdout",
     "output_type": "stream",
     "text": [
      "{'factor': 110592, 'pi': 3.1415836113443634, 'time': '2022-05-04 20:48:00'}\n",
      "16:48:00\n"
     ]
    },
    {
     "name": "stderr",
     "output_type": "stream",
     "text": [
      "DEBUG:schedule:Running job Job(interval=1, unit=minutes, do=resultsData, args=(), kwargs={})\n"
     ]
    },
    {
     "name": "stdout",
     "output_type": "stream",
     "text": [
      "{'factor': 117649, 'pi': 3.1416011534494763, 'time': '2022-05-04 20:49:00'}\n",
      "16:49:00\n"
     ]
    },
    {
     "name": "stderr",
     "output_type": "stream",
     "text": [
      "DEBUG:schedule:Running job Job(interval=1, unit=minutes, do=resultsData, args=(), kwargs={})\n"
     ]
    },
    {
     "name": "stdout",
     "output_type": "stream",
     "text": [
      "{'factor': 125000, 'pi': 3.141584653589728, 'time': '2022-05-04 20:50:00'}\n",
      "16:50:00\n"
     ]
    },
    {
     "name": "stderr",
     "output_type": "stream",
     "text": [
      "DEBUG:schedule:Running job Job(interval=1, unit=minutes, do=resultsData, args=(), kwargs={})\n"
     ]
    },
    {
     "name": "stdout",
     "output_type": "stream",
     "text": [
      "{'factor': 132651, 'pi': 3.1416001921684225, 'time': '2022-05-04 20:51:00'}\n",
      "16:51:00\n"
     ]
    },
    {
     "name": "stderr",
     "output_type": "stream",
     "text": [
      "DEBUG:schedule:Running job Job(interval=1, unit=minutes, do=resultsData, args=(), kwargs={})\n"
     ]
    },
    {
     "name": "stdout",
     "output_type": "stream",
     "text": [
      "{'factor': 140608, 'pi': 3.1415855416188876, 'time': '2022-05-04 20:52:00'}\n",
      "16:52:00\n"
     ]
    },
    {
     "name": "stderr",
     "output_type": "stream",
     "text": [
      "DEBUG:schedule:Running job Job(interval=1, unit=minutes, do=resultsData, args=(), kwargs={})\n"
     ]
    },
    {
     "name": "stdout",
     "output_type": "stream",
     "text": [
      "{'factor': 148877, 'pi': 3.141599370544006, 'time': '2022-05-04 20:53:00'}\n",
      "16:53:00\n"
     ]
    },
    {
     "name": "stderr",
     "output_type": "stream",
     "text": [
      "DEBUG:schedule:Running job Job(interval=1, unit=minutes, do=resultsData, args=(), kwargs={})\n"
     ]
    },
    {
     "name": "stdout",
     "output_type": "stream",
     "text": [
      "{'factor': 157464, 'pi': 3.1415863029318056, 'time': '2022-05-04 20:54:00'}\n",
      "16:54:00\n"
     ]
    },
    {
     "name": "stderr",
     "output_type": "stream",
     "text": [
      "DEBUG:schedule:Running job Job(interval=1, unit=minutes, do=resultsData, args=(), kwargs={})\n"
     ]
    },
    {
     "name": "stdout",
     "output_type": "stream",
     "text": [
      "{'factor': 166375, 'pi': 3.141598664108154, 'time': '2022-05-04 20:55:00'}\n",
      "16:55:00\n"
     ]
    },
    {
     "name": "stderr",
     "output_type": "stream",
     "text": [
      "DEBUG:schedule:Running job Job(interval=1, unit=minutes, do=resultsData, args=(), kwargs={})\n"
     ]
    },
    {
     "name": "stdout",
     "output_type": "stream",
     "text": [
      "{'factor': 175616, 'pi': 3.141586959347785, 'time': '2022-05-04 20:56:00'}\n",
      "16:56:00\n"
     ]
    },
    {
     "name": "stderr",
     "output_type": "stream",
     "text": [
      "DEBUG:schedule:Running job Job(interval=1, unit=minutes, do=resultsData, args=(), kwargs={})\n"
     ]
    },
    {
     "name": "stdout",
     "output_type": "stream",
     "text": [
      "{'factor': 185193, 'pi': 3.1415980533619163, 'time': '2022-05-04 20:57:00'}\n",
      "16:57:00\n"
     ]
    },
    {
     "name": "stderr",
     "output_type": "stream",
     "text": [
      "DEBUG:schedule:Running job Job(interval=1, unit=minutes, do=resultsData, args=(), kwargs={})\n"
     ]
    },
    {
     "name": "stdout",
     "output_type": "stream",
     "text": [
      "{'factor': 195112, 'pi': 3.1415875283283916, 'time': '2022-05-04 20:58:00'}\n",
      "16:58:00\n"
     ]
    },
    {
     "name": "stderr",
     "output_type": "stream",
     "text": [
      "DEBUG:schedule:Running job Job(interval=1, unit=minutes, do=resultsData, args=(), kwargs={})\n",
      "DEBUG:schedule:Cancelling job Job(interval=1, unit=minutes, do=resultsData, args=(), kwargs={})\n",
      "DEBUG:schedule:Cancelling job \"Job(interval=1, unit=minutes, do=resultsData, args=(), kwargs={})\"\n"
     ]
    },
    {
     "name": "stdout",
     "output_type": "stream",
     "text": [
      "{'factor': 205379, 'pi': 3.141597522636734, 'time': '2022-05-04 20:59:00'}\n",
      "16:59:00\n"
     ]
    },
    {
     "ename": "KeyboardInterrupt",
     "evalue": "",
     "output_type": "error",
     "traceback": [
      "\u001b[0;31m---------------------------------------------------------------------------\u001b[0m",
      "\u001b[0;31mKeyboardInterrupt\u001b[0m                         Traceback (most recent call last)",
      "\u001b[0;32m/var/folders/q9/4hlx88q958l3psp2fkspr9v80000gn/T/ipykernel_57889/1943661861.py\u001b[0m in \u001b[0;36m<module>\u001b[0;34m\u001b[0m\n\u001b[1;32m     30\u001b[0m \u001b[0;31m#schedule.run_all()\u001b[0m\u001b[0;34m\u001b[0m\u001b[0;34m\u001b[0m\u001b[0m\n\u001b[1;32m     31\u001b[0m \u001b[0;32mwhile\u001b[0m \u001b[0;32mTrue\u001b[0m\u001b[0;34m:\u001b[0m\u001b[0;34m\u001b[0m\u001b[0;34m\u001b[0m\u001b[0m\n\u001b[0;32m---> 32\u001b[0;31m     \u001b[0mschedule\u001b[0m\u001b[0;34m.\u001b[0m\u001b[0mrun_pending\u001b[0m\u001b[0;34m(\u001b[0m\u001b[0;34m)\u001b[0m\u001b[0;34m\u001b[0m\u001b[0;34m\u001b[0m\u001b[0m\n\u001b[0m",
      "\u001b[0;32m~/opt/anaconda3/lib/python3.9/site-packages/schedule/__init__.py\u001b[0m in \u001b[0;36mrun_pending\u001b[0;34m()\u001b[0m\n\u001b[1;32m    778\u001b[0m     \u001b[0;34m:\u001b[0m\u001b[0mdata\u001b[0m\u001b[0;34m:\u001b[0m\u001b[0;31m`\u001b[0m\u001b[0mdefault\u001b[0m \u001b[0mscheduler\u001b[0m \u001b[0minstance\u001b[0m \u001b[0;34m<\u001b[0m\u001b[0mdefault_scheduler\u001b[0m\u001b[0;34m>\u001b[0m\u001b[0;31m`\u001b[0m\u001b[0;34m.\u001b[0m\u001b[0;34m\u001b[0m\u001b[0;34m\u001b[0m\u001b[0m\n\u001b[1;32m    779\u001b[0m     \"\"\"\n\u001b[0;32m--> 780\u001b[0;31m     \u001b[0mdefault_scheduler\u001b[0m\u001b[0;34m.\u001b[0m\u001b[0mrun_pending\u001b[0m\u001b[0;34m(\u001b[0m\u001b[0;34m)\u001b[0m\u001b[0;34m\u001b[0m\u001b[0;34m\u001b[0m\u001b[0m\n\u001b[0m\u001b[1;32m    781\u001b[0m \u001b[0;34m\u001b[0m\u001b[0m\n\u001b[1;32m    782\u001b[0m \u001b[0;34m\u001b[0m\u001b[0m\n",
      "\u001b[0;31mKeyboardInterrupt\u001b[0m: "
     ]
    }
   ],
   "source": [
    "mydb = mysql.connector.connect(\n",
    "    host = os.getenv('MYSQL_HOST'),\n",
    "    user = os.getenv('MYSQL_USER'),\n",
    "    password = os.getenv('MYSQL_PASSWORD'),\n",
    "    database = \"factors\"\n",
    ")\n",
    "mycursor = mydb.cursor()\n",
    "\n",
    "# use logger to see which jobs are running and clear unnecessary jobs\n",
    "logging.basicConfig()\n",
    "schedule_logger = logging.getLogger('schedule')\n",
    "schedule_logger.setLevel(level=logging.DEBUG)\n",
    "\n",
    "# define function to make api call each minute on the :00 second for one hour\n",
    "def resultsData():\n",
    "    # make api call\n",
    "    responseN = requests.get(\"https://4feaquhyai.execute-api.us-east-1.amazonaws.com/api/pi\").json()\n",
    "    # insert into MySQL\n",
    "    sql = \"INSERT INTO results (factor, pi, time) VALUES (%s, %s, %s)\"\n",
    "    val = (responseN[\"factor\"], responseN[\"pi\"], responseN[\"time\"])\n",
    "    mycursor.execute(sql, val)\n",
    "    mydb.commit()\n",
    "    # print output\n",
    "    print(responseN)\n",
    "    # get current time\n",
    "    now = datetime.now()\n",
    "    current_time = now.strftime(\"%H:%M:%S\")\n",
    "    # print current time\n",
    "    print(current_time)\n",
    "\n",
    "# call the resultsData function\n",
    "schedule.every().minutes.at(\":00\").until(timedelta(hours=1)).do(resultsData)\n",
    "\n",
    "#schedule.clear() # if necessary to remove extraneously scheduled jobs\n",
    "\n",
    "# run the above scheduled job\n",
    "while True:\n",
    "    schedule.run_pending()"
   ]
  },
  {
   "cell_type": "code",
   "execution_count": 195,
   "id": "6a608448",
   "metadata": {},
   "outputs": [
    {
     "name": "stdout",
     "output_type": "stream",
     "text": [
      "<bound method MySQLCursor.fetchall of <mysql.connector.cursor.MySQLCursor object at 0x7fb41b0119a0>>\n"
     ]
    }
   ],
   "source": [
    "mydb = mysql.connector.connect(\n",
    "    host = os.getenv('MYSQL_HOST'),\n",
    "    user = os.getenv('MYSQL_USER'),\n",
    "    password = os.getenv('MYSQL_PASSWORD'),\n",
    "    database = \"factors\"\n",
    ")\n",
    "mycursor = mydb.cursor()\n",
    "\n",
    "# select the new factor, pi, and time information from the previous api call\n",
    "mycursor.execute(\"SELECT factor, pi, time FROM results\")\n",
    "result = mycursor.fetchall\n",
    "print(result)\n"
   ]
  },
  {
   "cell_type": "code",
   "execution_count": 196,
   "id": "d12734cc",
   "metadata": {},
   "outputs": [
    {
     "name": "stdout",
     "output_type": "stream",
     "text": [
      "Factors of API call 16:00-16:59 =  [1, 1, 8, 27, 64, 125, 216, 343, 512, 729, 1000, 1331, 1728, 2197, 2744, 3375, 4096, 4913, 5832, 6859, 8000, 9261, 10648, 12167, 13824, 15625, 17576, 19683, 21952, 24389, 27000, 29791, 32768, 35937, 39304, 42875, 46656, 50653, 54872, 59319, 64000, 68921, 74088, 79507, 85184, 91125, 97336, 103823, 110592, 117649, 125000, 132651, 140608, 148877, 157464, 166375, 175616, 185193, 195112, 205379]\n",
      "Pis of API call 16:00-16:59 =  [Decimal('4.0000000000000000'), Decimal('4.0000000000000000'), Decimal('3.0170718170718180'), Decimal('3.1786170109992202'), Decimal('3.1259686069732880'), Decimal('3.1495925256000317'), Decimal('3.1369630487667557'), Decimal('3.1445080992896712'), Decimal('3.1396395304524310'), Decimal('3.1429643950569854'), Decimal('3.1405926538397940'), Decimal('3.1423439682846700'), Decimal('3.1410139499345390'), Decimal('3.1420478197018580'), Decimal('3.1412282221150143'), Decimal('3.1418889498795900'), Decimal('3.1413485129684340'), Decimal('3.1417961952119438'), Decimal('3.1414211858269890'), Decimal('3.1417384474365110'), Decimal('3.1414676535902680'), Decimal('3.1417006332892840'), Decimal('3.1414987392398780'), Decimal('3.1416748431186930'), Decimal('3.1415203156269150'), Decimal('3.1416566535897220'), Decimal('3.1415357578228837'), Decimal('3.1416434588531876'), Decimal('3.1415470996539530'), Decimal('3.1416336556808755'), Decimal('3.1415556165527665'), Decimal('3.1416262207744947'), Decimal('3.1415621360116797'), Decimal('3.1416204800638963'), Decimal('3.1415672108867690'), Decimal('3.1416159772049452'), Decimal('3.1415712201192867'), Decimal('3.1416123957570740'), Decimal('3.1415744293588412'), Decimal('3.1416095115947930'), Decimal('3.1415770285897680'), Decimal('3.1416071629555630'), Decimal('3.1415791561272712'), Decimal('3.1416052310986480'), Decimal('3.1415809142959636'), Decimal('3.1416036275266306'), Decimal('3.1415823798985840'), Decimal('3.1416022853668917'), Decimal('3.1415836113443634'), Decimal('3.1416011534494763'), Decimal('3.1415846535897280'), Decimal('3.1416001921684225'), Decimal('3.1415855416188876'), Decimal('3.1415993705440060'), Decimal('3.1415863029318056'), Decimal('3.1415986641081540'), Decimal('3.1415869593477850'), Decimal('3.1415980533619163'), Decimal('3.1415875283283916'), Decimal('3.1415975226367340')]\n",
      "Times of API call 16:00-16:59 =  [datetime.datetime(2022, 5, 4, 20, 0), datetime.datetime(2022, 5, 4, 20, 1), datetime.datetime(2022, 5, 4, 20, 2), datetime.datetime(2022, 5, 4, 20, 3), datetime.datetime(2022, 5, 4, 20, 4), datetime.datetime(2022, 5, 4, 20, 5), datetime.datetime(2022, 5, 4, 20, 6), datetime.datetime(2022, 5, 4, 20, 7), datetime.datetime(2022, 5, 4, 20, 8), datetime.datetime(2022, 5, 4, 20, 9), datetime.datetime(2022, 5, 4, 20, 10), datetime.datetime(2022, 5, 4, 20, 11), datetime.datetime(2022, 5, 4, 20, 12), datetime.datetime(2022, 5, 4, 20, 13), datetime.datetime(2022, 5, 4, 20, 14), datetime.datetime(2022, 5, 4, 20, 15), datetime.datetime(2022, 5, 4, 20, 16), datetime.datetime(2022, 5, 4, 20, 17), datetime.datetime(2022, 5, 4, 20, 18), datetime.datetime(2022, 5, 4, 20, 19), datetime.datetime(2022, 5, 4, 20, 20), datetime.datetime(2022, 5, 4, 20, 21), datetime.datetime(2022, 5, 4, 20, 22), datetime.datetime(2022, 5, 4, 20, 23), datetime.datetime(2022, 5, 4, 20, 24), datetime.datetime(2022, 5, 4, 20, 25), datetime.datetime(2022, 5, 4, 20, 26), datetime.datetime(2022, 5, 4, 20, 27), datetime.datetime(2022, 5, 4, 20, 28), datetime.datetime(2022, 5, 4, 20, 29), datetime.datetime(2022, 5, 4, 20, 30), datetime.datetime(2022, 5, 4, 20, 31), datetime.datetime(2022, 5, 4, 20, 32), datetime.datetime(2022, 5, 4, 20, 33), datetime.datetime(2022, 5, 4, 20, 34), datetime.datetime(2022, 5, 4, 20, 35), datetime.datetime(2022, 5, 4, 20, 36), datetime.datetime(2022, 5, 4, 20, 37), datetime.datetime(2022, 5, 4, 20, 38), datetime.datetime(2022, 5, 4, 20, 39), datetime.datetime(2022, 5, 4, 20, 40), datetime.datetime(2022, 5, 4, 20, 41), datetime.datetime(2022, 5, 4, 20, 42), datetime.datetime(2022, 5, 4, 20, 43), datetime.datetime(2022, 5, 4, 20, 44), datetime.datetime(2022, 5, 4, 20, 45), datetime.datetime(2022, 5, 4, 20, 46), datetime.datetime(2022, 5, 4, 20, 47), datetime.datetime(2022, 5, 4, 20, 48), datetime.datetime(2022, 5, 4, 20, 49), datetime.datetime(2022, 5, 4, 20, 50), datetime.datetime(2022, 5, 4, 20, 51), datetime.datetime(2022, 5, 4, 20, 52), datetime.datetime(2022, 5, 4, 20, 53), datetime.datetime(2022, 5, 4, 20, 54), datetime.datetime(2022, 5, 4, 20, 55), datetime.datetime(2022, 5, 4, 20, 56), datetime.datetime(2022, 5, 4, 20, 57), datetime.datetime(2022, 5, 4, 20, 58), datetime.datetime(2022, 5, 4, 20, 59)]\n"
     ]
    }
   ],
   "source": [
    "# instantiate empty lists for factor, pi, and time values and append each value\n",
    "factors = []\n",
    "pis = []\n",
    "times = []\n",
    "for i in mycursor:\n",
    "    factors.append(i[0])\n",
    "    pis.append(i[1])\n",
    "    times.append(i[2])\n",
    "print(\"Factors of API call 16:00-16:59 = \", factors)\n",
    "print(\"Pis of API call 16:00-16:59 = \", pis)\n",
    "print(\"Times of API call 16:00-16:59 = \", times)"
   ]
  },
  {
   "cell_type": "code",
   "execution_count": 222,
   "id": "beb09a4d",
   "metadata": {
    "scrolled": true
   },
   "outputs": [
    {
     "data": {
      "text/plain": [
       "Text(0, 0.5, 'Factors')"
      ]
     },
     "execution_count": 222,
     "metadata": {},
     "output_type": "execute_result"
    },
    {
     "data": {
      "image/png": "[encoded data removed]",
      "text/plain": [
       "<Figure size 432x288 with 1 Axes>"
      ]
     },
     "metadata": {
      "needs_background": "light"
     },
     "output_type": "display_data"
    }
   ],
   "source": [
    "# graph the relationship between time and factor\n",
    "plt.plot(times, factors)\n",
    "plt.xlabel(\"Time\")\n",
    "plt.ylabel(\"Factors\")"
   ]
  },
  {
   "cell_type": "code",
   "execution_count": 218,
   "id": "6b7df75e",
   "metadata": {},
   "outputs": [
    {
     "data": {
      "text/plain": [
       "Text(0, 0.5, 'Pi Estimate')"
      ]
     },
     "execution_count": 218,
     "metadata": {},
     "output_type": "execute_result"
    },
    {
     "data": {
      "image/png": "[encoded data removed]",
      "text/plain": [
       "<Figure size 432x288 with 1 Axes>"
      ]
     },
     "metadata": {
      "needs_background": "light"
     },
     "output_type": "display_data"
    }
   ],
   "source": [
    "# graph the relationship between time and pi\n",
    "plt.plot(times, pis)\n",
    "plt.xlabel(\"Time\")\n",
    "plt.ylabel(\"Pi Estimate\")"
   ]
  },
  {
   "cell_type": "code",
   "execution_count": 220,
   "id": "997c848a",
   "metadata": {},
   "outputs": [
    {
     "data": {
      "text/plain": [
       "Text(0, 0.5, 'Pi Estimate')"
      ]
     },
     "execution_count": 220,
     "metadata": {},
     "output_type": "execute_result"
    },
    {
     "data": {
      "image/png": "[encoded data removed]",
      "text/plain": [
       "<Figure size 432x288 with 1 Axes>"
      ]
     },
     "metadata": {
      "needs_background": "light"
     },
     "output_type": "display_data"
    }
   ],
   "source": [
    "# graph the relationship between factor and pi\n",
    "plt.plot(factors, pis)\n",
    "plt.xlabel(\"Factors\")\n",
    "plt.ylabel(\"Pi Estimate\")"
   ]
  },
  {
   "cell_type": "code",
   "execution_count": null,
   "id": "3ab06a62",
   "metadata": {},
   "outputs": [],
   "source": []
  }
 ],
 "metadata": {
  "kernelspec": {
   "display_name": "Python 3 (ipykernel)",
   "language": "python",
   "name": "python3"
  },
  "language_info": {
   "codemirror_mode": {
    "name": "ipython",
    "version": 3
   },
   "file_extension": ".py",
   "mimetype": "text/x-python",
   "name": "python",
   "nbconvert_exporter": "python",
   "pygments_lexer": "ipython3",
   "version": "3.9.7"
  }
 },
 "nbformat": 4,
 "nbformat_minor": 5
}
